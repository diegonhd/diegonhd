{
 "cells": [
  {
   "cell_type": "markdown",
   "id": "676270f9",
   "metadata": {},
   "source": [
    "### Carregamento das Bibliotecas e dos Datasets"
   ]
  },
  {
   "cell_type": "code",
   "execution_count": 107,
   "id": "b7b01164",
   "metadata": {},
   "outputs": [
    {
     "data": {
      "text/html": [
       "<div>\n",
       "<style scoped>\n",
       "    .dataframe tbody tr th:only-of-type {\n",
       "        vertical-align: middle;\n",
       "    }\n",
       "\n",
       "    .dataframe tbody tr th {\n",
       "        vertical-align: top;\n",
       "    }\n",
       "\n",
       "    .dataframe thead th {\n",
       "        text-align: right;\n",
       "    }\n",
       "</style>\n",
       "<table border=\"1\" class=\"dataframe\">\n",
       "  <thead>\n",
       "    <tr style=\"text-align: right;\">\n",
       "      <th></th>\n",
       "      <th>product_id</th>\n",
       "      <th>product_category_name</th>\n",
       "      <th>product_name_lenght</th>\n",
       "      <th>product_description_lenght</th>\n",
       "      <th>product_photos_qty</th>\n",
       "      <th>product_weight_g</th>\n",
       "      <th>product_length_cm</th>\n",
       "      <th>product_height_cm</th>\n",
       "      <th>product_width_cm</th>\n",
       "    </tr>\n",
       "  </thead>\n",
       "  <tbody>\n",
       "    <tr>\n",
       "      <th>0</th>\n",
       "      <td>1e9e8ef04dbcff4541ed26657ea517e5</td>\n",
       "      <td>perfumaria</td>\n",
       "      <td>40.0</td>\n",
       "      <td>287.0</td>\n",
       "      <td>1.0</td>\n",
       "      <td>225.0</td>\n",
       "      <td>16.0</td>\n",
       "      <td>10.0</td>\n",
       "      <td>14.0</td>\n",
       "    </tr>\n",
       "    <tr>\n",
       "      <th>1</th>\n",
       "      <td>3aa071139cb16b67ca9e5dea641aaa2f</td>\n",
       "      <td>artes</td>\n",
       "      <td>44.0</td>\n",
       "      <td>276.0</td>\n",
       "      <td>1.0</td>\n",
       "      <td>1000.0</td>\n",
       "      <td>30.0</td>\n",
       "      <td>18.0</td>\n",
       "      <td>20.0</td>\n",
       "    </tr>\n",
       "    <tr>\n",
       "      <th>2</th>\n",
       "      <td>96bd76ec8810374ed1b65e291975717f</td>\n",
       "      <td>esporte_lazer</td>\n",
       "      <td>46.0</td>\n",
       "      <td>250.0</td>\n",
       "      <td>1.0</td>\n",
       "      <td>154.0</td>\n",
       "      <td>18.0</td>\n",
       "      <td>9.0</td>\n",
       "      <td>15.0</td>\n",
       "    </tr>\n",
       "    <tr>\n",
       "      <th>3</th>\n",
       "      <td>cef67bcfe19066a932b7673e239eb23d</td>\n",
       "      <td>bebes</td>\n",
       "      <td>27.0</td>\n",
       "      <td>261.0</td>\n",
       "      <td>1.0</td>\n",
       "      <td>371.0</td>\n",
       "      <td>26.0</td>\n",
       "      <td>4.0</td>\n",
       "      <td>26.0</td>\n",
       "    </tr>\n",
       "    <tr>\n",
       "      <th>4</th>\n",
       "      <td>9dc1a7de274444849c219cff195d0b71</td>\n",
       "      <td>utilidades_domesticas</td>\n",
       "      <td>37.0</td>\n",
       "      <td>402.0</td>\n",
       "      <td>4.0</td>\n",
       "      <td>625.0</td>\n",
       "      <td>20.0</td>\n",
       "      <td>17.0</td>\n",
       "      <td>13.0</td>\n",
       "    </tr>\n",
       "  </tbody>\n",
       "</table>\n",
       "</div>"
      ],
      "text/plain": [
       "                         product_id  product_category_name  \\\n",
       "0  1e9e8ef04dbcff4541ed26657ea517e5             perfumaria   \n",
       "1  3aa071139cb16b67ca9e5dea641aaa2f                  artes   \n",
       "2  96bd76ec8810374ed1b65e291975717f          esporte_lazer   \n",
       "3  cef67bcfe19066a932b7673e239eb23d                  bebes   \n",
       "4  9dc1a7de274444849c219cff195d0b71  utilidades_domesticas   \n",
       "\n",
       "   product_name_lenght  product_description_lenght  product_photos_qty  \\\n",
       "0                 40.0                       287.0                 1.0   \n",
       "1                 44.0                       276.0                 1.0   \n",
       "2                 46.0                       250.0                 1.0   \n",
       "3                 27.0                       261.0                 1.0   \n",
       "4                 37.0                       402.0                 4.0   \n",
       "\n",
       "   product_weight_g  product_length_cm  product_height_cm  product_width_cm  \n",
       "0             225.0               16.0               10.0              14.0  \n",
       "1            1000.0               30.0               18.0              20.0  \n",
       "2             154.0               18.0                9.0              15.0  \n",
       "3             371.0               26.0                4.0              26.0  \n",
       "4             625.0               20.0               17.0              13.0  "
      ]
     },
     "execution_count": 107,
     "metadata": {},
     "output_type": "execute_result"
    }
   ],
   "source": [
    "import pandas as pd\n",
    "import matplotlib.pyplot as plt\n",
    "import plotly.graph_objects as go\n",
    "import plotly.express as px\n",
    "import plotly.io as pio\n",
    "from textblob import TextBlob\n",
    "from transformers import pipeline\n",
    "\n",
    "\n",
    "df_items = pd.read_csv(r\"C:\\Users\\diego\\Desktop\\ds\\olist_order_items_dataset.csv\")\n",
    "df_reviews = pd.read_csv(r\"C:\\Users\\diego\\Desktop\\ds\\olist_order_reviews_dataset.csv\")\n",
    "df_orders = pd.read_csv(r\"C:\\Users\\diego\\Desktop\\ds\\olist_orders_dataset.csv\")\n",
    "df_products = pd.read_csv(r\"C:\\Users\\diego\\Desktop\\ds\\olist_products_dataset.csv\")\n",
    "df_categorytranslation = pd.read_csv(r\"C:\\Users\\diego\\Desktop\\ds\\product_category_name_translation.csv\")\n",
    "df_products.head()"
   ]
  },
  {
   "cell_type": "markdown",
   "id": "3f532a3d",
   "metadata": {},
   "source": [
    "### Pré-processamento de dados usando BERT\n",
    "Estão presentes nesse trecho duas funções: uma para retornar a pontuação baseada no comentário feita pelo modelo; a outra para classificar o sentimento\n",
    "entre positivo, negativo e neutro baseado nesse escore."
   ]
  },
  {
   "cell_type": "code",
   "execution_count": null,
   "id": "1c9b82eb",
   "metadata": {},
   "outputs": [
    {
     "name": "stderr",
     "output_type": "stream",
     "text": [
      "Device set to use cpu\n"
     ]
    }
   ],
   "source": [
    "\n",
    "# carrega o modelo pré-treinado para análise de sentimento em português\n",
    "sentiment_model = pipeline(\"sentiment-analysis\", model=\"nlptown/bert-base-multilingual-uncased-sentiment\")\n",
    "\n",
    "def retornarestrela_bert(texto):\n",
    "    if pd.isnull(texto) or len(texto.strip()) == 0: #verifica se o texto está vazio se remover os espaços em branco e, se estiver, já fica estabelecido como neutro\n",
    "        return \"neutro\"\n",
    "    \n",
    "    resultado = sentiment_model(texto[:512])[0] #limita pra 512 tokens\n",
    "\n",
    "    estrela = int(resultado[\"label\"][0]) #extrai da analise do comentario a 'estrela' da review\n",
    "    return estrela\n",
    "    \n",
    "def classificarsentimento(comment_score):\n",
    "    if isinstance(comment_score, str) and comment_score == \"neutro\":\n",
    "        return \"Neutro\"\n",
    "\n",
    "    if isinstance(comment_score, int):\n",
    "        estrela = comment_score\n",
    "        if estrela <= 2:\n",
    "            return \"Negativo\"\n",
    "        elif estrela == 3:\n",
    "            return \"Neutro\"\n",
    "        else: # 4 or 5\n",
    "            return \"Positivo\"\n",
    "    return \"Neutro\"\n",
    "\n",
    "\n",
    "\n"
   ]
  },
  {
   "cell_type": "markdown",
   "id": "2525c938",
   "metadata": {},
   "source": [
    "### Merge dos dados usando order_id, product_id e product_category_name\n",
    "### Categorizar sentimentos e notas:\n",
    "Foi criada a categoria comment_score:\n",
    "Notas de 1 a 5 (com base no modelo BERT)\n",
    "Além disso, foi criada também sentimento_comentario usando a função do módulo anterior.\n"
   ]
  },
  {
   "cell_type": "code",
   "execution_count": null,
   "id": "19742909",
   "metadata": {},
   "outputs": [],
   "source": [
    "df1 = pd.merge(df_items, df_reviews, on='order_id', how='inner')\n",
    "df2 = pd.merge(df1, df_orders, on='order_id', how='inner')\n",
    "df3 = pd.merge(df2, df_products, on='product_id', how='inner')\n",
    "df_final = pd.merge(df3, df_categorytranslation, on='product_category_name', how='inner')\n",
    "\n",
    "    \n",
    "# delimitei a amostra para 1000 avaliações com comentários\n",
    "df_final_amostra = df_final[df_final['review_comment_message'].notnull()].sample(1000, random_state=42)\n",
    "\n",
    "# aplica a função classificar_sentimento_bert apenas na amostra\n",
    "df_final_amostra['comment_score'] = df_final_amostra['review_comment_message'].apply(retornarestrela_bert)\n",
    "df_final_amostra['sentimento_comentario'] = df_final_amostra['comment_score'].apply(classificarsentimento)"
   ]
  },
  {
   "cell_type": "code",
   "execution_count": 123,
   "id": "c04bf85b",
   "metadata": {},
   "outputs": [
    {
     "data": {
      "application/vnd.plotly.v1+json": {
       "config": {
        "plotlyServerURL": "https://plot.ly"
       },
       "data": [
        {
         "alignmentgroup": "True",
         "bingroup": "x",
         "hovertemplate": "sentimento_comentario=Positivo<br>review_score=%{x}<br>count=%{y}<extra></extra>",
         "legendgroup": "Positivo",
         "marker": {
          "color": "green",
          "pattern": {
           "shape": ""
          }
         },
         "name": "Positivo",
         "offsetgroup": "Positivo",
         "orientation": "v",
         "showlegend": true,
         "type": "histogram",
         "x": {
          "bdata": "BQUFAwUFBQUFBQMFBQUFBQUFBAUFBAUFBQUFBQQFBQUDBQUDBQUFBQQFBQQFBAUDBQUEBQUFBQUCAQQFBQMFBQUFBQUFBAUFBQQEBQQFAwMBBAUFBQUFBAUFBQQFAwUDBAEFBQUFBAQFBQUFBQUFBQMFBQUFBQUFBQUFAwUFBQQFBQQFBQQFBQEEBQMEBQUFBQQFBQUFBQUEBAUFBAUFBQUFAQUFBAUCBQQFBQQFAQUFBQMFBQUFBQUFAwUFBQUFAQUEBQUEBQUEBQUFBAQFBQUBAwUCBQUFBQEFBQQFBAQEBQUFBQUEBQUFBQUFBQUEBQUFBQUFBQUFBQUFBQQEBQQEBQUEBQUFBQUFBAQFBQQFBQUFBQMFBQUFBQQFBQUFBQQFBQIFBQUFBQUFBQMFBQUFBQQEBQUFBAUFBQUFBAQFBQUFBQQFBQUEBQUFBQMFBQUFBQUFBQQFBAMFBQUFBAQFBQEFBQUEBQEBBQUFBQUFBAUFBQUFBAUFBAUFBQUEBQUDBQUFBQUFBQUFBQQFBQUFBQUFBAUFBQUEBQQDBQUFBQMEBQUFBQUFBQUFBQUFBQQFBAQFBQUFBQUEAQQFBQUFAgUFBQUEBQUFBQUFBQUFAQEFBQUFBQUEBQEFBQUFBQUEBAQFBQUFBAUFBAUFBAEEBQUFBQUFBQUFBQUFBQUEBQUFBQUFAg==",
          "dtype": "i1"
         },
         "xaxis": "x",
         "yaxis": "y"
        },
        {
         "alignmentgroup": "True",
         "bingroup": "x",
         "hovertemplate": "sentimento_comentario=Negativo<br>review_score=%{x}<br>count=%{y}<extra></extra>",
         "legendgroup": "Negativo",
         "marker": {
          "color": "red",
          "pattern": {
           "shape": ""
          }
         },
         "name": "Negativo",
         "offsetgroup": "Negativo",
         "orientation": "v",
         "showlegend": true,
         "type": "histogram",
         "x": {
          "bdata": "AQIBAwIBAQECAQEBBQECAQUBAQEBAQIDAQEDBAEBAQEBAwUBAQEEBAEBAQUEBAUBAQEEAQEDBAEBAwQFBAEBAQEDBAIBAwUCBQICAQEBAwMBAwMFAQEBAQUBAgEBAQMEBQUBAQEBAwEBAQEBAQEDBQUBAQIBAwUBAQQBAQUDAQEFAwEBAQUBAgEBBAECAQEEAQICAQEBAQEBAwUBAwMCBQEBAwEBBQEDAwIDAQUBAQUBAQEFBQUBAQEFAQEBAQEDAwIBAwEFAQEEAwMFAwMEAQMBAQEFAQQBAgEBBQEBBAQDAQECBQECAQEBBQEFAQEBAwEBAwEDAQEEAgEDBQUBBAUEAwMBAQUBBQMCBAEBAQMBBQEBAwEBBAMBAgMBAwMBAQEDAQEBAwQEBAEBAwECAwUCAgUBAQUBAgEBAgIBAQUDAwEBAQECAQEFBQEBAQIBAQUDAwEFAQMFAwIBBAUDBQEBAgQEAQEBAQEBBQUEAQMBBQEFAQEEAQIBBQECAQUBAQEBAQEBBQUDAwMBAwMBAQIFAQU=",
          "dtype": "i1"
         },
         "xaxis": "x",
         "yaxis": "y"
        },
        {
         "alignmentgroup": "True",
         "bingroup": "x",
         "hovertemplate": "sentimento_comentario=Neutro<br>review_score=%{x}<br>count=%{y}<extra></extra>",
         "legendgroup": "Neutro",
         "marker": {
          "color": "yellow",
          "pattern": {
           "shape": ""
          }
         },
         "name": "Neutro",
         "offsetgroup": "Neutro",
         "orientation": "v",
         "showlegend": true,
         "type": "histogram",
         "x": {
          "bdata": "BQUBBAUEBQUFBAQFBAMFAwUBBQUFBQMFBQUDBAUEAwQEBQMBBAEFAwUBBQUEAQUDBQUDBAUBBAUEBQUFBAQEBQUDBQUFBAUFBAIFAw==",
          "dtype": "i1"
         },
         "xaxis": "x",
         "yaxis": "y"
        }
       ],
       "layout": {
        "bargap": 0.2,
        "barmode": "group",
        "legend": {
         "title": {
          "text": "Sentimento"
         },
         "tracegroupgap": 0
        },
        "margin": {
         "t": 60
        },
        "template": {
         "data": {
          "bar": [
           {
            "error_x": {
             "color": "#2a3f5f"
            },
            "error_y": {
             "color": "#2a3f5f"
            },
            "marker": {
             "line": {
              "color": "white",
              "width": 0.5
             },
             "pattern": {
              "fillmode": "overlay",
              "size": 10,
              "solidity": 0.2
             }
            },
            "type": "bar"
           }
          ],
          "barpolar": [
           {
            "marker": {
             "line": {
              "color": "white",
              "width": 0.5
             },
             "pattern": {
              "fillmode": "overlay",
              "size": 10,
              "solidity": 0.2
             }
            },
            "type": "barpolar"
           }
          ],
          "carpet": [
           {
            "aaxis": {
             "endlinecolor": "#2a3f5f",
             "gridcolor": "#C8D4E3",
             "linecolor": "#C8D4E3",
             "minorgridcolor": "#C8D4E3",
             "startlinecolor": "#2a3f5f"
            },
            "baxis": {
             "endlinecolor": "#2a3f5f",
             "gridcolor": "#C8D4E3",
             "linecolor": "#C8D4E3",
             "minorgridcolor": "#C8D4E3",
             "startlinecolor": "#2a3f5f"
            },
            "type": "carpet"
           }
          ],
          "choropleth": [
           {
            "colorbar": {
             "outlinewidth": 0,
             "ticks": ""
            },
            "type": "choropleth"
           }
          ],
          "contour": [
           {
            "colorbar": {
             "outlinewidth": 0,
             "ticks": ""
            },
            "colorscale": [
             [
              0,
              "#0d0887"
             ],
             [
              0.1111111111111111,
              "#46039f"
             ],
             [
              0.2222222222222222,
              "#7201a8"
             ],
             [
              0.3333333333333333,
              "#9c179e"
             ],
             [
              0.4444444444444444,
              "#bd3786"
             ],
             [
              0.5555555555555556,
              "#d8576b"
             ],
             [
              0.6666666666666666,
              "#ed7953"
             ],
             [
              0.7777777777777778,
              "#fb9f3a"
             ],
             [
              0.8888888888888888,
              "#fdca26"
             ],
             [
              1,
              "#f0f921"
             ]
            ],
            "type": "contour"
           }
          ],
          "contourcarpet": [
           {
            "colorbar": {
             "outlinewidth": 0,
             "ticks": ""
            },
            "type": "contourcarpet"
           }
          ],
          "heatmap": [
           {
            "colorbar": {
             "outlinewidth": 0,
             "ticks": ""
            },
            "colorscale": [
             [
              0,
              "#0d0887"
             ],
             [
              0.1111111111111111,
              "#46039f"
             ],
             [
              0.2222222222222222,
              "#7201a8"
             ],
             [
              0.3333333333333333,
              "#9c179e"
             ],
             [
              0.4444444444444444,
              "#bd3786"
             ],
             [
              0.5555555555555556,
              "#d8576b"
             ],
             [
              0.6666666666666666,
              "#ed7953"
             ],
             [
              0.7777777777777778,
              "#fb9f3a"
             ],
             [
              0.8888888888888888,
              "#fdca26"
             ],
             [
              1,
              "#f0f921"
             ]
            ],
            "type": "heatmap"
           }
          ],
          "histogram": [
           {
            "marker": {
             "pattern": {
              "fillmode": "overlay",
              "size": 10,
              "solidity": 0.2
             }
            },
            "type": "histogram"
           }
          ],
          "histogram2d": [
           {
            "colorbar": {
             "outlinewidth": 0,
             "ticks": ""
            },
            "colorscale": [
             [
              0,
              "#0d0887"
             ],
             [
              0.1111111111111111,
              "#46039f"
             ],
             [
              0.2222222222222222,
              "#7201a8"
             ],
             [
              0.3333333333333333,
              "#9c179e"
             ],
             [
              0.4444444444444444,
              "#bd3786"
             ],
             [
              0.5555555555555556,
              "#d8576b"
             ],
             [
              0.6666666666666666,
              "#ed7953"
             ],
             [
              0.7777777777777778,
              "#fb9f3a"
             ],
             [
              0.8888888888888888,
              "#fdca26"
             ],
             [
              1,
              "#f0f921"
             ]
            ],
            "type": "histogram2d"
           }
          ],
          "histogram2dcontour": [
           {
            "colorbar": {
             "outlinewidth": 0,
             "ticks": ""
            },
            "colorscale": [
             [
              0,
              "#0d0887"
             ],
             [
              0.1111111111111111,
              "#46039f"
             ],
             [
              0.2222222222222222,
              "#7201a8"
             ],
             [
              0.3333333333333333,
              "#9c179e"
             ],
             [
              0.4444444444444444,
              "#bd3786"
             ],
             [
              0.5555555555555556,
              "#d8576b"
             ],
             [
              0.6666666666666666,
              "#ed7953"
             ],
             [
              0.7777777777777778,
              "#fb9f3a"
             ],
             [
              0.8888888888888888,
              "#fdca26"
             ],
             [
              1,
              "#f0f921"
             ]
            ],
            "type": "histogram2dcontour"
           }
          ],
          "mesh3d": [
           {
            "colorbar": {
             "outlinewidth": 0,
             "ticks": ""
            },
            "type": "mesh3d"
           }
          ],
          "parcoords": [
           {
            "line": {
             "colorbar": {
              "outlinewidth": 0,
              "ticks": ""
             }
            },
            "type": "parcoords"
           }
          ],
          "pie": [
           {
            "automargin": true,
            "type": "pie"
           }
          ],
          "scatter": [
           {
            "fillpattern": {
             "fillmode": "overlay",
             "size": 10,
             "solidity": 0.2
            },
            "type": "scatter"
           }
          ],
          "scatter3d": [
           {
            "line": {
             "colorbar": {
              "outlinewidth": 0,
              "ticks": ""
             }
            },
            "marker": {
             "colorbar": {
              "outlinewidth": 0,
              "ticks": ""
             }
            },
            "type": "scatter3d"
           }
          ],
          "scattercarpet": [
           {
            "marker": {
             "colorbar": {
              "outlinewidth": 0,
              "ticks": ""
             }
            },
            "type": "scattercarpet"
           }
          ],
          "scattergeo": [
           {
            "marker": {
             "colorbar": {
              "outlinewidth": 0,
              "ticks": ""
             }
            },
            "type": "scattergeo"
           }
          ],
          "scattergl": [
           {
            "marker": {
             "colorbar": {
              "outlinewidth": 0,
              "ticks": ""
             }
            },
            "type": "scattergl"
           }
          ],
          "scattermap": [
           {
            "marker": {
             "colorbar": {
              "outlinewidth": 0,
              "ticks": ""
             }
            },
            "type": "scattermap"
           }
          ],
          "scattermapbox": [
           {
            "marker": {
             "colorbar": {
              "outlinewidth": 0,
              "ticks": ""
             }
            },
            "type": "scattermapbox"
           }
          ],
          "scatterpolar": [
           {
            "marker": {
             "colorbar": {
              "outlinewidth": 0,
              "ticks": ""
             }
            },
            "type": "scatterpolar"
           }
          ],
          "scatterpolargl": [
           {
            "marker": {
             "colorbar": {
              "outlinewidth": 0,
              "ticks": ""
             }
            },
            "type": "scatterpolargl"
           }
          ],
          "scatterternary": [
           {
            "marker": {
             "colorbar": {
              "outlinewidth": 0,
              "ticks": ""
             }
            },
            "type": "scatterternary"
           }
          ],
          "surface": [
           {
            "colorbar": {
             "outlinewidth": 0,
             "ticks": ""
            },
            "colorscale": [
             [
              0,
              "#0d0887"
             ],
             [
              0.1111111111111111,
              "#46039f"
             ],
             [
              0.2222222222222222,
              "#7201a8"
             ],
             [
              0.3333333333333333,
              "#9c179e"
             ],
             [
              0.4444444444444444,
              "#bd3786"
             ],
             [
              0.5555555555555556,
              "#d8576b"
             ],
             [
              0.6666666666666666,
              "#ed7953"
             ],
             [
              0.7777777777777778,
              "#fb9f3a"
             ],
             [
              0.8888888888888888,
              "#fdca26"
             ],
             [
              1,
              "#f0f921"
             ]
            ],
            "type": "surface"
           }
          ],
          "table": [
           {
            "cells": {
             "fill": {
              "color": "#EBF0F8"
             },
             "line": {
              "color": "white"
             }
            },
            "header": {
             "fill": {
              "color": "#C8D4E3"
             },
             "line": {
              "color": "white"
             }
            },
            "type": "table"
           }
          ]
         },
         "layout": {
          "annotationdefaults": {
           "arrowcolor": "#2a3f5f",
           "arrowhead": 0,
           "arrowwidth": 1
          },
          "autotypenumbers": "strict",
          "coloraxis": {
           "colorbar": {
            "outlinewidth": 0,
            "ticks": ""
           }
          },
          "colorscale": {
           "diverging": [
            [
             0,
             "#8e0152"
            ],
            [
             0.1,
             "#c51b7d"
            ],
            [
             0.2,
             "#de77ae"
            ],
            [
             0.3,
             "#f1b6da"
            ],
            [
             0.4,
             "#fde0ef"
            ],
            [
             0.5,
             "#f7f7f7"
            ],
            [
             0.6,
             "#e6f5d0"
            ],
            [
             0.7,
             "#b8e186"
            ],
            [
             0.8,
             "#7fbc41"
            ],
            [
             0.9,
             "#4d9221"
            ],
            [
             1,
             "#276419"
            ]
           ],
           "sequential": [
            [
             0,
             "#0d0887"
            ],
            [
             0.1111111111111111,
             "#46039f"
            ],
            [
             0.2222222222222222,
             "#7201a8"
            ],
            [
             0.3333333333333333,
             "#9c179e"
            ],
            [
             0.4444444444444444,
             "#bd3786"
            ],
            [
             0.5555555555555556,
             "#d8576b"
            ],
            [
             0.6666666666666666,
             "#ed7953"
            ],
            [
             0.7777777777777778,
             "#fb9f3a"
            ],
            [
             0.8888888888888888,
             "#fdca26"
            ],
            [
             1,
             "#f0f921"
            ]
           ],
           "sequentialminus": [
            [
             0,
             "#0d0887"
            ],
            [
             0.1111111111111111,
             "#46039f"
            ],
            [
             0.2222222222222222,
             "#7201a8"
            ],
            [
             0.3333333333333333,
             "#9c179e"
            ],
            [
             0.4444444444444444,
             "#bd3786"
            ],
            [
             0.5555555555555556,
             "#d8576b"
            ],
            [
             0.6666666666666666,
             "#ed7953"
            ],
            [
             0.7777777777777778,
             "#fb9f3a"
            ],
            [
             0.8888888888888888,
             "#fdca26"
            ],
            [
             1,
             "#f0f921"
            ]
           ]
          },
          "colorway": [
           "#636efa",
           "#EF553B",
           "#00cc96",
           "#ab63fa",
           "#FFA15A",
           "#19d3f3",
           "#FF6692",
           "#B6E880",
           "#FF97FF",
           "#FECB52"
          ],
          "font": {
           "color": "#2a3f5f"
          },
          "geo": {
           "bgcolor": "white",
           "lakecolor": "white",
           "landcolor": "white",
           "showlakes": true,
           "showland": true,
           "subunitcolor": "#C8D4E3"
          },
          "hoverlabel": {
           "align": "left"
          },
          "hovermode": "closest",
          "mapbox": {
           "style": "light"
          },
          "paper_bgcolor": "white",
          "plot_bgcolor": "white",
          "polar": {
           "angularaxis": {
            "gridcolor": "#EBF0F8",
            "linecolor": "#EBF0F8",
            "ticks": ""
           },
           "bgcolor": "white",
           "radialaxis": {
            "gridcolor": "#EBF0F8",
            "linecolor": "#EBF0F8",
            "ticks": ""
           }
          },
          "scene": {
           "xaxis": {
            "backgroundcolor": "white",
            "gridcolor": "#DFE8F3",
            "gridwidth": 2,
            "linecolor": "#EBF0F8",
            "showbackground": true,
            "ticks": "",
            "zerolinecolor": "#EBF0F8"
           },
           "yaxis": {
            "backgroundcolor": "white",
            "gridcolor": "#DFE8F3",
            "gridwidth": 2,
            "linecolor": "#EBF0F8",
            "showbackground": true,
            "ticks": "",
            "zerolinecolor": "#EBF0F8"
           },
           "zaxis": {
            "backgroundcolor": "white",
            "gridcolor": "#DFE8F3",
            "gridwidth": 2,
            "linecolor": "#EBF0F8",
            "showbackground": true,
            "ticks": "",
            "zerolinecolor": "#EBF0F8"
           }
          },
          "shapedefaults": {
           "line": {
            "color": "#2a3f5f"
           }
          },
          "ternary": {
           "aaxis": {
            "gridcolor": "#DFE8F3",
            "linecolor": "#A2B1C6",
            "ticks": ""
           },
           "baxis": {
            "gridcolor": "#DFE8F3",
            "linecolor": "#A2B1C6",
            "ticks": ""
           },
           "bgcolor": "white",
           "caxis": {
            "gridcolor": "#DFE8F3",
            "linecolor": "#A2B1C6",
            "ticks": ""
           }
          },
          "title": {
           "x": 0.05
          },
          "xaxis": {
           "automargin": true,
           "gridcolor": "#EBF0F8",
           "linecolor": "#EBF0F8",
           "ticks": "",
           "title": {
            "standoff": 15
           },
           "zerolinecolor": "#EBF0F8",
           "zerolinewidth": 2
          },
          "yaxis": {
           "automargin": true,
           "gridcolor": "#EBF0F8",
           "linecolor": "#EBF0F8",
           "ticks": "",
           "title": {
            "standoff": 15
           },
           "zerolinecolor": "#EBF0F8",
           "zerolinewidth": 2
          }
         }
        },
        "title": {
         "text": "Distribuição de Sentimentos por Nota de Avaliação (Contagem)"
        },
        "xaxis": {
         "anchor": "y",
         "domain": [
          0,
          1
         ],
         "title": {
          "text": "Nota da Avaliação (review_score)"
         }
        },
        "yaxis": {
         "anchor": "x",
         "domain": [
          0,
          1
         ],
         "title": {
          "text": "Contagem de Avaliações"
         }
        }
       }
      }
     },
     "metadata": {},
     "output_type": "display_data"
    },
    {
     "name": "stdout",
     "output_type": "stream",
     "text": [
      "Acurácia de compatibilidade entre a análise usando o sentimento do comentário e o sentimento avaliado pela nota: 73.20%\n"
     ]
    }
   ],
   "source": [
    "fig = px.histogram(\n",
    "    df_final_amostra,\n",
    "    x=\"review_score\",\n",
    "    color=\"sentimento_comentario\",\n",
    "    color_discrete_map={\n",
    "        'Positivo': 'green',\n",
    "        'Negativo': 'red',\n",
    "        'Neutro': 'yellow'\n",
    "    },\n",
    "    barmode='group',\n",
    "    category_orders={\n",
    "        \"sentimento_comentario\": ['Positivo', 'Negativo', 'Neutro']  # ordem desejada das cores\n",
    "    }\n",
    ")\n",
    "\n",
    "fig.update_layout(\n",
    "    title='Distribuição de Sentimentos por Nota de Avaliação (Contagem)',\n",
    "    xaxis_title='Nota da Avaliação (review_score)',\n",
    "    yaxis_title='Contagem de Avaliações',\n",
    "    legend_title='Sentimento',\n",
    "    bargap=0.2,\n",
    "    template='plotly_white'\n",
    ")\n",
    "\n",
    "fig.show()\n",
    "\n",
    "acuracia = (df_final_amostra['sentimento_comentario'] == df_final_amostra['sentimento_nota']).mean() * 100\n",
    "print(f\"Acurácia de compatibilidade entre a análise usando o sentimento do comentário e o sentimento avaliado pela nota: {acuracia:.2f}%\")"
   ]
  },
  {
   "cell_type": "markdown",
   "id": "339392e9",
   "metadata": {},
   "source": [
    "### Calculo da proporção de avaliações baixas (notas 1 e 2) e altas (notas 4 e 5) para cada categoria de produto:\n",
    "Primeiro, conta o total de avaliações por categoria.\n",
    "Depois, filtra as avaliações baixas e altas, calcula suas proporções em relação ao total.\n",
    "Por fim, cria um DataFrame com essas proporções e filtra apenas as categorias com pelo menos 30 avaliações."
   ]
  },
  {
   "cell_type": "code",
   "execution_count": 109,
   "id": "fd80ae19",
   "metadata": {},
   "outputs": [],
   "source": [
    "# contagem total por categoria\n",
    "total_por_categoria = df_final_amostra.groupby('product_category_name')['review_score'].count()\n",
    "\n",
    "# contagens separadas por tipo de nota\n",
    "contagem_baixas = df_final_amostra[df_final_amostra['review_score'].isin([1, 2])] \\\n",
    "    .groupby('product_category_name')['review_score'].count()\n",
    "\n",
    "\n",
    "contagem_altas = df_final_amostra[df_final_amostra['review_score'].isin([4, 5])] \\\n",
    "    .groupby('product_category_name')['review_score'].count()\n",
    "\n",
    "proporcao_baixas = (contagem_baixas / total_por_categoria).fillna(0)\n",
    "proporcao_altas = (contagem_altas / total_por_categoria).fillna(0)\n",
    "\n",
    "# dataframe das proporçoes\n",
    "df_proporcao = pd.DataFrame({\n",
    "    'proporcao_baixas': proporcao_baixas,\n",
    "    'proporcao_altas': proporcao_altas\n",
    "}).agg(list).reset_index()\n",
    "\n",
    "df_proporcao.head(10)\n",
    "total_comentarios = df_final_amostra.groupby('product_category_name')['review_score'].count()\n",
    "categorias_filtradas = total_comentarios[total_comentarios >= 30].index # filtra as categorias com um piso de quantidade de comentarios em 30\n",
    "\n",
    "# filtrar df_proporcao com essas categorias\n",
    "df_proporcao_filtrado = df_proporcao[df_proporcao['product_category_name'].isin(categorias_filtradas)]"
   ]
  },
  {
   "cell_type": "markdown",
   "id": "56b9e1b0",
   "metadata": {},
   "source": [
    "Mostra um ranking das categorias melhores avaliadas dentro do filtro considerando a proporção de notas positivas."
   ]
  },
  {
   "cell_type": "code",
   "execution_count": 110,
   "id": "2d4a436f",
   "metadata": {},
   "outputs": [
    {
     "data": {
      "text/html": [
       "<div>\n",
       "<style scoped>\n",
       "    .dataframe tbody tr th:only-of-type {\n",
       "        vertical-align: middle;\n",
       "    }\n",
       "\n",
       "    .dataframe tbody tr th {\n",
       "        vertical-align: top;\n",
       "    }\n",
       "\n",
       "    .dataframe thead th {\n",
       "        text-align: right;\n",
       "    }\n",
       "</style>\n",
       "<table border=\"1\" class=\"dataframe\">\n",
       "  <thead>\n",
       "    <tr style=\"text-align: right;\">\n",
       "      <th></th>\n",
       "      <th>product_category_name</th>\n",
       "      <th>proporcao_altas</th>\n",
       "    </tr>\n",
       "  </thead>\n",
       "  <tbody>\n",
       "    <tr>\n",
       "      <th>0</th>\n",
       "      <td>utilidades_domesticas</td>\n",
       "      <td>0.703125</td>\n",
       "    </tr>\n",
       "    <tr>\n",
       "      <th>1</th>\n",
       "      <td>cama_mesa_banho</td>\n",
       "      <td>0.681034</td>\n",
       "    </tr>\n",
       "    <tr>\n",
       "      <th>2</th>\n",
       "      <td>telefonia</td>\n",
       "      <td>0.680851</td>\n",
       "    </tr>\n",
       "    <tr>\n",
       "      <th>3</th>\n",
       "      <td>ferramentas_jardim</td>\n",
       "      <td>0.666667</td>\n",
       "    </tr>\n",
       "    <tr>\n",
       "      <th>4</th>\n",
       "      <td>brinquedos</td>\n",
       "      <td>0.642857</td>\n",
       "    </tr>\n",
       "    <tr>\n",
       "      <th>5</th>\n",
       "      <td>esporte_lazer</td>\n",
       "      <td>0.621622</td>\n",
       "    </tr>\n",
       "    <tr>\n",
       "      <th>6</th>\n",
       "      <td>relogios_presentes</td>\n",
       "      <td>0.619048</td>\n",
       "    </tr>\n",
       "    <tr>\n",
       "      <th>7</th>\n",
       "      <td>cool_stuff</td>\n",
       "      <td>0.612903</td>\n",
       "    </tr>\n",
       "    <tr>\n",
       "      <th>8</th>\n",
       "      <td>beleza_saude</td>\n",
       "      <td>0.594203</td>\n",
       "    </tr>\n",
       "    <tr>\n",
       "      <th>9</th>\n",
       "      <td>moveis_decoracao</td>\n",
       "      <td>0.555556</td>\n",
       "    </tr>\n",
       "  </tbody>\n",
       "</table>\n",
       "</div>"
      ],
      "text/plain": [
       "   product_category_name  proporcao_altas\n",
       "0  utilidades_domesticas         0.703125\n",
       "1        cama_mesa_banho         0.681034\n",
       "2              telefonia         0.680851\n",
       "3     ferramentas_jardim         0.666667\n",
       "4             brinquedos         0.642857\n",
       "5          esporte_lazer         0.621622\n",
       "6     relogios_presentes         0.619048\n",
       "7             cool_stuff         0.612903\n",
       "8           beleza_saude         0.594203\n",
       "9       moveis_decoracao         0.555556"
      ]
     },
     "execution_count": 110,
     "metadata": {},
     "output_type": "execute_result"
    }
   ],
   "source": [
    "ranking_filtrado_altas = df_proporcao_filtrado.sort_values(by='proporcao_altas', ascending=False).reset_index(drop=True)\n",
    "ranking_filtrado_altas[['product_category_name', 'proporcao_altas']].head(10)"
   ]
  },
  {
   "cell_type": "code",
   "execution_count": 125,
   "id": "749cecf4",
   "metadata": {},
   "outputs": [
    {
     "data": {
      "application/vnd.plotly.v1+json": {
       "config": {
        "plotlyServerURL": "https://plot.ly"
       },
       "data": [
        {
         "hovertemplate": "Proporção de Avaliações Positivas=%{x}<br>Categoria do Produto=%{y}<br>text=%{text}<extra></extra>",
         "legendgroup": "",
         "marker": {
          "color": "#636efa",
          "pattern": {
           "shape": ""
          }
         },
         "name": "",
         "orientation": "h",
         "showlegend": false,
         "text": [
          "70.31%",
          "68.10%",
          "68.09%",
          "66.67%",
          "64.29%",
          "62.16%",
          "61.90%",
          "61.29%",
          "59.42%",
          "55.56%",
          "53.42%"
         ],
         "textposition": "outside",
         "type": "bar",
         "x": {
          "bdata": "AAAAAACA5j+NsNzTCMvlP1cQkyuIyeU/VVVVVVVV5T8lSZIkSZLkP0U+6wZT5OM/9DzP8zzP4z+dc84555zjPzDXDsy1A+M/chzHcRzH4T+JESNGjBjhPw==",
          "dtype": "f8"
         },
         "xaxis": "x",
         "y": [
          "utilidades_domesticas",
          "cama_mesa_banho",
          "telefonia",
          "ferramentas_jardim",
          "brinquedos",
          "esporte_lazer",
          "relogios_presentes",
          "cool_stuff",
          "beleza_saude",
          "moveis_decoracao",
          "informatica_acessorios"
         ],
         "yaxis": "y"
        }
       ],
       "layout": {
        "barmode": "relative",
        "legend": {
         "tracegroupgap": 0
        },
        "margin": {
         "l": 150
        },
        "template": {
         "data": {
          "bar": [
           {
            "error_x": {
             "color": "#2a3f5f"
            },
            "error_y": {
             "color": "#2a3f5f"
            },
            "marker": {
             "line": {
              "color": "white",
              "width": 0.5
             },
             "pattern": {
              "fillmode": "overlay",
              "size": 10,
              "solidity": 0.2
             }
            },
            "type": "bar"
           }
          ],
          "barpolar": [
           {
            "marker": {
             "line": {
              "color": "white",
              "width": 0.5
             },
             "pattern": {
              "fillmode": "overlay",
              "size": 10,
              "solidity": 0.2
             }
            },
            "type": "barpolar"
           }
          ],
          "carpet": [
           {
            "aaxis": {
             "endlinecolor": "#2a3f5f",
             "gridcolor": "#C8D4E3",
             "linecolor": "#C8D4E3",
             "minorgridcolor": "#C8D4E3",
             "startlinecolor": "#2a3f5f"
            },
            "baxis": {
             "endlinecolor": "#2a3f5f",
             "gridcolor": "#C8D4E3",
             "linecolor": "#C8D4E3",
             "minorgridcolor": "#C8D4E3",
             "startlinecolor": "#2a3f5f"
            },
            "type": "carpet"
           }
          ],
          "choropleth": [
           {
            "colorbar": {
             "outlinewidth": 0,
             "ticks": ""
            },
            "type": "choropleth"
           }
          ],
          "contour": [
           {
            "colorbar": {
             "outlinewidth": 0,
             "ticks": ""
            },
            "colorscale": [
             [
              0,
              "#0d0887"
             ],
             [
              0.1111111111111111,
              "#46039f"
             ],
             [
              0.2222222222222222,
              "#7201a8"
             ],
             [
              0.3333333333333333,
              "#9c179e"
             ],
             [
              0.4444444444444444,
              "#bd3786"
             ],
             [
              0.5555555555555556,
              "#d8576b"
             ],
             [
              0.6666666666666666,
              "#ed7953"
             ],
             [
              0.7777777777777778,
              "#fb9f3a"
             ],
             [
              0.8888888888888888,
              "#fdca26"
             ],
             [
              1,
              "#f0f921"
             ]
            ],
            "type": "contour"
           }
          ],
          "contourcarpet": [
           {
            "colorbar": {
             "outlinewidth": 0,
             "ticks": ""
            },
            "type": "contourcarpet"
           }
          ],
          "heatmap": [
           {
            "colorbar": {
             "outlinewidth": 0,
             "ticks": ""
            },
            "colorscale": [
             [
              0,
              "#0d0887"
             ],
             [
              0.1111111111111111,
              "#46039f"
             ],
             [
              0.2222222222222222,
              "#7201a8"
             ],
             [
              0.3333333333333333,
              "#9c179e"
             ],
             [
              0.4444444444444444,
              "#bd3786"
             ],
             [
              0.5555555555555556,
              "#d8576b"
             ],
             [
              0.6666666666666666,
              "#ed7953"
             ],
             [
              0.7777777777777778,
              "#fb9f3a"
             ],
             [
              0.8888888888888888,
              "#fdca26"
             ],
             [
              1,
              "#f0f921"
             ]
            ],
            "type": "heatmap"
           }
          ],
          "histogram": [
           {
            "marker": {
             "pattern": {
              "fillmode": "overlay",
              "size": 10,
              "solidity": 0.2
             }
            },
            "type": "histogram"
           }
          ],
          "histogram2d": [
           {
            "colorbar": {
             "outlinewidth": 0,
             "ticks": ""
            },
            "colorscale": [
             [
              0,
              "#0d0887"
             ],
             [
              0.1111111111111111,
              "#46039f"
             ],
             [
              0.2222222222222222,
              "#7201a8"
             ],
             [
              0.3333333333333333,
              "#9c179e"
             ],
             [
              0.4444444444444444,
              "#bd3786"
             ],
             [
              0.5555555555555556,
              "#d8576b"
             ],
             [
              0.6666666666666666,
              "#ed7953"
             ],
             [
              0.7777777777777778,
              "#fb9f3a"
             ],
             [
              0.8888888888888888,
              "#fdca26"
             ],
             [
              1,
              "#f0f921"
             ]
            ],
            "type": "histogram2d"
           }
          ],
          "histogram2dcontour": [
           {
            "colorbar": {
             "outlinewidth": 0,
             "ticks": ""
            },
            "colorscale": [
             [
              0,
              "#0d0887"
             ],
             [
              0.1111111111111111,
              "#46039f"
             ],
             [
              0.2222222222222222,
              "#7201a8"
             ],
             [
              0.3333333333333333,
              "#9c179e"
             ],
             [
              0.4444444444444444,
              "#bd3786"
             ],
             [
              0.5555555555555556,
              "#d8576b"
             ],
             [
              0.6666666666666666,
              "#ed7953"
             ],
             [
              0.7777777777777778,
              "#fb9f3a"
             ],
             [
              0.8888888888888888,
              "#fdca26"
             ],
             [
              1,
              "#f0f921"
             ]
            ],
            "type": "histogram2dcontour"
           }
          ],
          "mesh3d": [
           {
            "colorbar": {
             "outlinewidth": 0,
             "ticks": ""
            },
            "type": "mesh3d"
           }
          ],
          "parcoords": [
           {
            "line": {
             "colorbar": {
              "outlinewidth": 0,
              "ticks": ""
             }
            },
            "type": "parcoords"
           }
          ],
          "pie": [
           {
            "automargin": true,
            "type": "pie"
           }
          ],
          "scatter": [
           {
            "fillpattern": {
             "fillmode": "overlay",
             "size": 10,
             "solidity": 0.2
            },
            "type": "scatter"
           }
          ],
          "scatter3d": [
           {
            "line": {
             "colorbar": {
              "outlinewidth": 0,
              "ticks": ""
             }
            },
            "marker": {
             "colorbar": {
              "outlinewidth": 0,
              "ticks": ""
             }
            },
            "type": "scatter3d"
           }
          ],
          "scattercarpet": [
           {
            "marker": {
             "colorbar": {
              "outlinewidth": 0,
              "ticks": ""
             }
            },
            "type": "scattercarpet"
           }
          ],
          "scattergeo": [
           {
            "marker": {
             "colorbar": {
              "outlinewidth": 0,
              "ticks": ""
             }
            },
            "type": "scattergeo"
           }
          ],
          "scattergl": [
           {
            "marker": {
             "colorbar": {
              "outlinewidth": 0,
              "ticks": ""
             }
            },
            "type": "scattergl"
           }
          ],
          "scattermap": [
           {
            "marker": {
             "colorbar": {
              "outlinewidth": 0,
              "ticks": ""
             }
            },
            "type": "scattermap"
           }
          ],
          "scattermapbox": [
           {
            "marker": {
             "colorbar": {
              "outlinewidth": 0,
              "ticks": ""
             }
            },
            "type": "scattermapbox"
           }
          ],
          "scatterpolar": [
           {
            "marker": {
             "colorbar": {
              "outlinewidth": 0,
              "ticks": ""
             }
            },
            "type": "scatterpolar"
           }
          ],
          "scatterpolargl": [
           {
            "marker": {
             "colorbar": {
              "outlinewidth": 0,
              "ticks": ""
             }
            },
            "type": "scatterpolargl"
           }
          ],
          "scatterternary": [
           {
            "marker": {
             "colorbar": {
              "outlinewidth": 0,
              "ticks": ""
             }
            },
            "type": "scatterternary"
           }
          ],
          "surface": [
           {
            "colorbar": {
             "outlinewidth": 0,
             "ticks": ""
            },
            "colorscale": [
             [
              0,
              "#0d0887"
             ],
             [
              0.1111111111111111,
              "#46039f"
             ],
             [
              0.2222222222222222,
              "#7201a8"
             ],
             [
              0.3333333333333333,
              "#9c179e"
             ],
             [
              0.4444444444444444,
              "#bd3786"
             ],
             [
              0.5555555555555556,
              "#d8576b"
             ],
             [
              0.6666666666666666,
              "#ed7953"
             ],
             [
              0.7777777777777778,
              "#fb9f3a"
             ],
             [
              0.8888888888888888,
              "#fdca26"
             ],
             [
              1,
              "#f0f921"
             ]
            ],
            "type": "surface"
           }
          ],
          "table": [
           {
            "cells": {
             "fill": {
              "color": "#EBF0F8"
             },
             "line": {
              "color": "white"
             }
            },
            "header": {
             "fill": {
              "color": "#C8D4E3"
             },
             "line": {
              "color": "white"
             }
            },
            "type": "table"
           }
          ]
         },
         "layout": {
          "annotationdefaults": {
           "arrowcolor": "#2a3f5f",
           "arrowhead": 0,
           "arrowwidth": 1
          },
          "autotypenumbers": "strict",
          "coloraxis": {
           "colorbar": {
            "outlinewidth": 0,
            "ticks": ""
           }
          },
          "colorscale": {
           "diverging": [
            [
             0,
             "#8e0152"
            ],
            [
             0.1,
             "#c51b7d"
            ],
            [
             0.2,
             "#de77ae"
            ],
            [
             0.3,
             "#f1b6da"
            ],
            [
             0.4,
             "#fde0ef"
            ],
            [
             0.5,
             "#f7f7f7"
            ],
            [
             0.6,
             "#e6f5d0"
            ],
            [
             0.7,
             "#b8e186"
            ],
            [
             0.8,
             "#7fbc41"
            ],
            [
             0.9,
             "#4d9221"
            ],
            [
             1,
             "#276419"
            ]
           ],
           "sequential": [
            [
             0,
             "#0d0887"
            ],
            [
             0.1111111111111111,
             "#46039f"
            ],
            [
             0.2222222222222222,
             "#7201a8"
            ],
            [
             0.3333333333333333,
             "#9c179e"
            ],
            [
             0.4444444444444444,
             "#bd3786"
            ],
            [
             0.5555555555555556,
             "#d8576b"
            ],
            [
             0.6666666666666666,
             "#ed7953"
            ],
            [
             0.7777777777777778,
             "#fb9f3a"
            ],
            [
             0.8888888888888888,
             "#fdca26"
            ],
            [
             1,
             "#f0f921"
            ]
           ],
           "sequentialminus": [
            [
             0,
             "#0d0887"
            ],
            [
             0.1111111111111111,
             "#46039f"
            ],
            [
             0.2222222222222222,
             "#7201a8"
            ],
            [
             0.3333333333333333,
             "#9c179e"
            ],
            [
             0.4444444444444444,
             "#bd3786"
            ],
            [
             0.5555555555555556,
             "#d8576b"
            ],
            [
             0.6666666666666666,
             "#ed7953"
            ],
            [
             0.7777777777777778,
             "#fb9f3a"
            ],
            [
             0.8888888888888888,
             "#fdca26"
            ],
            [
             1,
             "#f0f921"
            ]
           ]
          },
          "colorway": [
           "#636efa",
           "#EF553B",
           "#00cc96",
           "#ab63fa",
           "#FFA15A",
           "#19d3f3",
           "#FF6692",
           "#B6E880",
           "#FF97FF",
           "#FECB52"
          ],
          "font": {
           "color": "#2a3f5f"
          },
          "geo": {
           "bgcolor": "white",
           "lakecolor": "white",
           "landcolor": "white",
           "showlakes": true,
           "showland": true,
           "subunitcolor": "#C8D4E3"
          },
          "hoverlabel": {
           "align": "left"
          },
          "hovermode": "closest",
          "mapbox": {
           "style": "light"
          },
          "paper_bgcolor": "white",
          "plot_bgcolor": "white",
          "polar": {
           "angularaxis": {
            "gridcolor": "#EBF0F8",
            "linecolor": "#EBF0F8",
            "ticks": ""
           },
           "bgcolor": "white",
           "radialaxis": {
            "gridcolor": "#EBF0F8",
            "linecolor": "#EBF0F8",
            "ticks": ""
           }
          },
          "scene": {
           "xaxis": {
            "backgroundcolor": "white",
            "gridcolor": "#DFE8F3",
            "gridwidth": 2,
            "linecolor": "#EBF0F8",
            "showbackground": true,
            "ticks": "",
            "zerolinecolor": "#EBF0F8"
           },
           "yaxis": {
            "backgroundcolor": "white",
            "gridcolor": "#DFE8F3",
            "gridwidth": 2,
            "linecolor": "#EBF0F8",
            "showbackground": true,
            "ticks": "",
            "zerolinecolor": "#EBF0F8"
           },
           "zaxis": {
            "backgroundcolor": "white",
            "gridcolor": "#DFE8F3",
            "gridwidth": 2,
            "linecolor": "#EBF0F8",
            "showbackground": true,
            "ticks": "",
            "zerolinecolor": "#EBF0F8"
           }
          },
          "shapedefaults": {
           "line": {
            "color": "#2a3f5f"
           }
          },
          "ternary": {
           "aaxis": {
            "gridcolor": "#DFE8F3",
            "linecolor": "#A2B1C6",
            "ticks": ""
           },
           "baxis": {
            "gridcolor": "#DFE8F3",
            "linecolor": "#A2B1C6",
            "ticks": ""
           },
           "bgcolor": "white",
           "caxis": {
            "gridcolor": "#DFE8F3",
            "linecolor": "#A2B1C6",
            "ticks": ""
           }
          },
          "title": {
           "x": 0.05
          },
          "xaxis": {
           "automargin": true,
           "gridcolor": "#EBF0F8",
           "linecolor": "#EBF0F8",
           "ticks": "",
           "title": {
            "standoff": 15
           },
           "zerolinecolor": "#EBF0F8",
           "zerolinewidth": 2
          },
          "yaxis": {
           "automargin": true,
           "gridcolor": "#EBF0F8",
           "linecolor": "#EBF0F8",
           "ticks": "",
           "title": {
            "standoff": 15
           },
           "zerolinecolor": "#EBF0F8",
           "zerolinewidth": 2
          }
         }
        },
        "title": {
         "text": "Ranking das Categorias com Maior Proporção de Avaliações Positivas (Notas 4 e 5)"
        },
        "xaxis": {
         "anchor": "y",
         "domain": [
          0,
          1
         ],
         "title": {
          "text": "Proporção de Avaliações Positivas"
         }
        },
        "yaxis": {
         "anchor": "x",
         "categoryorder": "total ascending",
         "domain": [
          0,
          1
         ],
         "title": {
          "text": "Categoria do Produto"
         }
        }
       }
      }
     },
     "metadata": {},
     "output_type": "display_data"
    }
   ],
   "source": [
    "df_proporcao_filtrado['proporcao_altas_val'] = df_proporcao_filtrado['proporcao_altas'].apply(lambda x: x[0] if isinstance(x, list) else x)\n",
    "\n",
    "df_proporcao_filtrado = df_proporcao_filtrado.sort_values(by='proporcao_altas_val', ascending=False)\n",
    "\n",
    "# plotar gráfico de barras horizontal\n",
    "grafico = px.bar(\n",
    "    df_proporcao_filtrado,\n",
    "    x='proporcao_altas_val',\n",
    "    y='product_category_name',\n",
    "    orientation='h',\n",
    "    labels={\n",
    "        'proporcao_altas_val': 'Proporção de Avaliações Positivas',\n",
    "        'product_category_name': 'Categoria do Produto'\n",
    "    },\n",
    "    title='Ranking das Categorias com Maior Proporção de Avaliações Positivas (Notas 4 e 5)',\n",
    "    text=df_proporcao_filtrado['proporcao_altas_val'].apply(lambda x: f\"{x:.2%}\")\n",
    ")\n",
    "\n",
    "grafico.update_traces(textposition='outside')\n",
    "grafico.update_layout(yaxis={'categoryorder':'total ascending'}, template='plotly_white', margin=dict(l=150))\n",
    "grafico.show()"
   ]
  },
  {
   "cell_type": "markdown",
   "id": "9bd8ae1b",
   "metadata": {},
   "source": [
    "## Categorias de maior satisfação:\n",
    "Alta Satisfação em Categorias Essenciais\n",
    "Utilidades domésticas (70,31%), cama, mesa e banho (68,10%) e telefonia (68,09%) lideram o ranking.\n",
    "Essas categorias estão ligadas ao uso cotidiano e conforto, sugerindo que os produtos nelas oferecem uma boa relação custo-benefício e atendem às expectativas dos consumidores."
   ]
  },
  {
   "cell_type": "markdown",
   "id": "40d88715",
   "metadata": {},
   "source": [
    "Agora, é feito o ranking das categorias filtradas com pior avaliação com base na proporção."
   ]
  },
  {
   "cell_type": "code",
   "execution_count": 119,
   "id": "da29f28d",
   "metadata": {},
   "outputs": [
    {
     "data": {
      "text/html": [
       "<div>\n",
       "<style scoped>\n",
       "    .dataframe tbody tr th:only-of-type {\n",
       "        vertical-align: middle;\n",
       "    }\n",
       "\n",
       "    .dataframe tbody tr th {\n",
       "        vertical-align: top;\n",
       "    }\n",
       "\n",
       "    .dataframe thead th {\n",
       "        text-align: right;\n",
       "    }\n",
       "</style>\n",
       "<table border=\"1\" class=\"dataframe\">\n",
       "  <thead>\n",
       "    <tr style=\"text-align: right;\">\n",
       "      <th></th>\n",
       "      <th>product_category_name</th>\n",
       "      <th>proporcao_baixas_val</th>\n",
       "    </tr>\n",
       "  </thead>\n",
       "  <tbody>\n",
       "    <tr>\n",
       "      <th>0</th>\n",
       "      <td>informatica_acessorios</td>\n",
       "      <td>0.328767</td>\n",
       "    </tr>\n",
       "    <tr>\n",
       "      <th>1</th>\n",
       "      <td>beleza_saude</td>\n",
       "      <td>0.318841</td>\n",
       "    </tr>\n",
       "    <tr>\n",
       "      <th>2</th>\n",
       "      <td>telefonia</td>\n",
       "      <td>0.297872</td>\n",
       "    </tr>\n",
       "    <tr>\n",
       "      <th>3</th>\n",
       "      <td>moveis_decoracao</td>\n",
       "      <td>0.291667</td>\n",
       "    </tr>\n",
       "    <tr>\n",
       "      <th>4</th>\n",
       "      <td>ferramentas_jardim</td>\n",
       "      <td>0.288889</td>\n",
       "    </tr>\n",
       "    <tr>\n",
       "      <th>5</th>\n",
       "      <td>brinquedos</td>\n",
       "      <td>0.261905</td>\n",
       "    </tr>\n",
       "    <tr>\n",
       "      <th>6</th>\n",
       "      <td>cool_stuff</td>\n",
       "      <td>0.258065</td>\n",
       "    </tr>\n",
       "    <tr>\n",
       "      <th>7</th>\n",
       "      <td>esporte_lazer</td>\n",
       "      <td>0.243243</td>\n",
       "    </tr>\n",
       "    <tr>\n",
       "      <th>8</th>\n",
       "      <td>utilidades_domesticas</td>\n",
       "      <td>0.234375</td>\n",
       "    </tr>\n",
       "    <tr>\n",
       "      <th>9</th>\n",
       "      <td>cama_mesa_banho</td>\n",
       "      <td>0.232759</td>\n",
       "    </tr>\n",
       "  </tbody>\n",
       "</table>\n",
       "</div>"
      ],
      "text/plain": [
       "    product_category_name  proporcao_baixas_val\n",
       "0  informatica_acessorios              0.328767\n",
       "1            beleza_saude              0.318841\n",
       "2               telefonia              0.297872\n",
       "3        moveis_decoracao              0.291667\n",
       "4      ferramentas_jardim              0.288889\n",
       "5              brinquedos              0.261905\n",
       "6              cool_stuff              0.258065\n",
       "7           esporte_lazer              0.243243\n",
       "8   utilidades_domesticas              0.234375\n",
       "9         cama_mesa_banho              0.232759"
      ]
     },
     "execution_count": 119,
     "metadata": {},
     "output_type": "execute_result"
    }
   ],
   "source": [
    "# Garante que a coluna proporcao_baixas_val contenha valores escalares\n",
    "df_proporcao_filtrado['proporcao_baixas_val'] = df_proporcao_filtrado['proporcao_baixas'].apply(lambda x: x[0] if isinstance(x, list) else x)\n",
    "\n",
    "# Ordena pelo maior valor de proporcao_baixas (piores categorias nesse critério)\n",
    "ranking_filtrado_baixas = df_proporcao_filtrado.sort_values(by='proporcao_baixas_val', ascending=False).reset_index(drop=True)\n",
    "\n",
    "# Mostra as 10 piores categorias com mais avaliações baixas\n",
    "ranking_filtrado_baixas[['product_category_name', 'proporcao_baixas_val']].head(10)\n"
   ]
  },
  {
   "cell_type": "code",
   "execution_count": null,
   "id": "c990e290",
   "metadata": {},
   "outputs": [
    {
     "data": {
      "application/vnd.plotly.v1+json": {
       "config": {
        "plotlyServerURL": "https://plot.ly"
       },
       "data": [
        {
         "hovertemplate": "Proporção de Avaliações Baixas=%{x}<br>Categoria do Produto=%{y}<br>text=%{text}<extra></extra>",
         "legendgroup": "",
         "marker": {
          "color": "#636efa",
          "pattern": {
           "shape": ""
          }
         },
         "name": "",
         "orientation": "h",
         "showlegend": false,
         "text": [
          "32.88%",
          "31.88%",
          "29.79%",
          "29.17%",
          "28.89%",
          "26.19%",
          "25.81%",
          "24.32%",
          "23.44%",
          "23.28%",
          "22.22%"
         ],
         "textposition": "outside",
         "type": "bar",
         "x": {
          "bdata": "qFChQoUK1T9GiZ9R4mfUP0yuICZXENM/q6qqqqqq0j/SJ33SJ33SPzEMwzAMw9A/hBBCCCGE0D8q8lk3mCLPPwAAAAAAAM4/jbDc0wjLzT8cx3Ecx3HMPw==",
          "dtype": "f8"
         },
         "xaxis": "x",
         "y": [
          "informatica_acessorios",
          "beleza_saude",
          "telefonia",
          "moveis_decoracao",
          "ferramentas_jardim",
          "brinquedos",
          "cool_stuff",
          "esporte_lazer",
          "utilidades_domesticas",
          "cama_mesa_banho",
          "relogios_presentes"
         ],
         "yaxis": "y"
        }
       ],
       "layout": {
        "barmode": "relative",
        "legend": {
         "tracegroupgap": 0
        },
        "margin": {
         "l": 150
        },
        "template": {
         "data": {
          "bar": [
           {
            "error_x": {
             "color": "#2a3f5f"
            },
            "error_y": {
             "color": "#2a3f5f"
            },
            "marker": {
             "line": {
              "color": "white",
              "width": 0.5
             },
             "pattern": {
              "fillmode": "overlay",
              "size": 10,
              "solidity": 0.2
             }
            },
            "type": "bar"
           }
          ],
          "barpolar": [
           {
            "marker": {
             "line": {
              "color": "white",
              "width": 0.5
             },
             "pattern": {
              "fillmode": "overlay",
              "size": 10,
              "solidity": 0.2
             }
            },
            "type": "barpolar"
           }
          ],
          "carpet": [
           {
            "aaxis": {
             "endlinecolor": "#2a3f5f",
             "gridcolor": "#C8D4E3",
             "linecolor": "#C8D4E3",
             "minorgridcolor": "#C8D4E3",
             "startlinecolor": "#2a3f5f"
            },
            "baxis": {
             "endlinecolor": "#2a3f5f",
             "gridcolor": "#C8D4E3",
             "linecolor": "#C8D4E3",
             "minorgridcolor": "#C8D4E3",
             "startlinecolor": "#2a3f5f"
            },
            "type": "carpet"
           }
          ],
          "choropleth": [
           {
            "colorbar": {
             "outlinewidth": 0,
             "ticks": ""
            },
            "type": "choropleth"
           }
          ],
          "contour": [
           {
            "colorbar": {
             "outlinewidth": 0,
             "ticks": ""
            },
            "colorscale": [
             [
              0,
              "#0d0887"
             ],
             [
              0.1111111111111111,
              "#46039f"
             ],
             [
              0.2222222222222222,
              "#7201a8"
             ],
             [
              0.3333333333333333,
              "#9c179e"
             ],
             [
              0.4444444444444444,
              "#bd3786"
             ],
             [
              0.5555555555555556,
              "#d8576b"
             ],
             [
              0.6666666666666666,
              "#ed7953"
             ],
             [
              0.7777777777777778,
              "#fb9f3a"
             ],
             [
              0.8888888888888888,
              "#fdca26"
             ],
             [
              1,
              "#f0f921"
             ]
            ],
            "type": "contour"
           }
          ],
          "contourcarpet": [
           {
            "colorbar": {
             "outlinewidth": 0,
             "ticks": ""
            },
            "type": "contourcarpet"
           }
          ],
          "heatmap": [
           {
            "colorbar": {
             "outlinewidth": 0,
             "ticks": ""
            },
            "colorscale": [
             [
              0,
              "#0d0887"
             ],
             [
              0.1111111111111111,
              "#46039f"
             ],
             [
              0.2222222222222222,
              "#7201a8"
             ],
             [
              0.3333333333333333,
              "#9c179e"
             ],
             [
              0.4444444444444444,
              "#bd3786"
             ],
             [
              0.5555555555555556,
              "#d8576b"
             ],
             [
              0.6666666666666666,
              "#ed7953"
             ],
             [
              0.7777777777777778,
              "#fb9f3a"
             ],
             [
              0.8888888888888888,
              "#fdca26"
             ],
             [
              1,
              "#f0f921"
             ]
            ],
            "type": "heatmap"
           }
          ],
          "histogram": [
           {
            "marker": {
             "pattern": {
              "fillmode": "overlay",
              "size": 10,
              "solidity": 0.2
             }
            },
            "type": "histogram"
           }
          ],
          "histogram2d": [
           {
            "colorbar": {
             "outlinewidth": 0,
             "ticks": ""
            },
            "colorscale": [
             [
              0,
              "#0d0887"
             ],
             [
              0.1111111111111111,
              "#46039f"
             ],
             [
              0.2222222222222222,
              "#7201a8"
             ],
             [
              0.3333333333333333,
              "#9c179e"
             ],
             [
              0.4444444444444444,
              "#bd3786"
             ],
             [
              0.5555555555555556,
              "#d8576b"
             ],
             [
              0.6666666666666666,
              "#ed7953"
             ],
             [
              0.7777777777777778,
              "#fb9f3a"
             ],
             [
              0.8888888888888888,
              "#fdca26"
             ],
             [
              1,
              "#f0f921"
             ]
            ],
            "type": "histogram2d"
           }
          ],
          "histogram2dcontour": [
           {
            "colorbar": {
             "outlinewidth": 0,
             "ticks": ""
            },
            "colorscale": [
             [
              0,
              "#0d0887"
             ],
             [
              0.1111111111111111,
              "#46039f"
             ],
             [
              0.2222222222222222,
              "#7201a8"
             ],
             [
              0.3333333333333333,
              "#9c179e"
             ],
             [
              0.4444444444444444,
              "#bd3786"
             ],
             [
              0.5555555555555556,
              "#d8576b"
             ],
             [
              0.6666666666666666,
              "#ed7953"
             ],
             [
              0.7777777777777778,
              "#fb9f3a"
             ],
             [
              0.8888888888888888,
              "#fdca26"
             ],
             [
              1,
              "#f0f921"
             ]
            ],
            "type": "histogram2dcontour"
           }
          ],
          "mesh3d": [
           {
            "colorbar": {
             "outlinewidth": 0,
             "ticks": ""
            },
            "type": "mesh3d"
           }
          ],
          "parcoords": [
           {
            "line": {
             "colorbar": {
              "outlinewidth": 0,
              "ticks": ""
             }
            },
            "type": "parcoords"
           }
          ],
          "pie": [
           {
            "automargin": true,
            "type": "pie"
           }
          ],
          "scatter": [
           {
            "fillpattern": {
             "fillmode": "overlay",
             "size": 10,
             "solidity": 0.2
            },
            "type": "scatter"
           }
          ],
          "scatter3d": [
           {
            "line": {
             "colorbar": {
              "outlinewidth": 0,
              "ticks": ""
             }
            },
            "marker": {
             "colorbar": {
              "outlinewidth": 0,
              "ticks": ""
             }
            },
            "type": "scatter3d"
           }
          ],
          "scattercarpet": [
           {
            "marker": {
             "colorbar": {
              "outlinewidth": 0,
              "ticks": ""
             }
            },
            "type": "scattercarpet"
           }
          ],
          "scattergeo": [
           {
            "marker": {
             "colorbar": {
              "outlinewidth": 0,
              "ticks": ""
             }
            },
            "type": "scattergeo"
           }
          ],
          "scattergl": [
           {
            "marker": {
             "colorbar": {
              "outlinewidth": 0,
              "ticks": ""
             }
            },
            "type": "scattergl"
           }
          ],
          "scattermap": [
           {
            "marker": {
             "colorbar": {
              "outlinewidth": 0,
              "ticks": ""
             }
            },
            "type": "scattermap"
           }
          ],
          "scattermapbox": [
           {
            "marker": {
             "colorbar": {
              "outlinewidth": 0,
              "ticks": ""
             }
            },
            "type": "scattermapbox"
           }
          ],
          "scatterpolar": [
           {
            "marker": {
             "colorbar": {
              "outlinewidth": 0,
              "ticks": ""
             }
            },
            "type": "scatterpolar"
           }
          ],
          "scatterpolargl": [
           {
            "marker": {
             "colorbar": {
              "outlinewidth": 0,
              "ticks": ""
             }
            },
            "type": "scatterpolargl"
           }
          ],
          "scatterternary": [
           {
            "marker": {
             "colorbar": {
              "outlinewidth": 0,
              "ticks": ""
             }
            },
            "type": "scatterternary"
           }
          ],
          "surface": [
           {
            "colorbar": {
             "outlinewidth": 0,
             "ticks": ""
            },
            "colorscale": [
             [
              0,
              "#0d0887"
             ],
             [
              0.1111111111111111,
              "#46039f"
             ],
             [
              0.2222222222222222,
              "#7201a8"
             ],
             [
              0.3333333333333333,
              "#9c179e"
             ],
             [
              0.4444444444444444,
              "#bd3786"
             ],
             [
              0.5555555555555556,
              "#d8576b"
             ],
             [
              0.6666666666666666,
              "#ed7953"
             ],
             [
              0.7777777777777778,
              "#fb9f3a"
             ],
             [
              0.8888888888888888,
              "#fdca26"
             ],
             [
              1,
              "#f0f921"
             ]
            ],
            "type": "surface"
           }
          ],
          "table": [
           {
            "cells": {
             "fill": {
              "color": "#EBF0F8"
             },
             "line": {
              "color": "white"
             }
            },
            "header": {
             "fill": {
              "color": "#C8D4E3"
             },
             "line": {
              "color": "white"
             }
            },
            "type": "table"
           }
          ]
         },
         "layout": {
          "annotationdefaults": {
           "arrowcolor": "#2a3f5f",
           "arrowhead": 0,
           "arrowwidth": 1
          },
          "autotypenumbers": "strict",
          "coloraxis": {
           "colorbar": {
            "outlinewidth": 0,
            "ticks": ""
           }
          },
          "colorscale": {
           "diverging": [
            [
             0,
             "#8e0152"
            ],
            [
             0.1,
             "#c51b7d"
            ],
            [
             0.2,
             "#de77ae"
            ],
            [
             0.3,
             "#f1b6da"
            ],
            [
             0.4,
             "#fde0ef"
            ],
            [
             0.5,
             "#f7f7f7"
            ],
            [
             0.6,
             "#e6f5d0"
            ],
            [
             0.7,
             "#b8e186"
            ],
            [
             0.8,
             "#7fbc41"
            ],
            [
             0.9,
             "#4d9221"
            ],
            [
             1,
             "#276419"
            ]
           ],
           "sequential": [
            [
             0,
             "#0d0887"
            ],
            [
             0.1111111111111111,
             "#46039f"
            ],
            [
             0.2222222222222222,
             "#7201a8"
            ],
            [
             0.3333333333333333,
             "#9c179e"
            ],
            [
             0.4444444444444444,
             "#bd3786"
            ],
            [
             0.5555555555555556,
             "#d8576b"
            ],
            [
             0.6666666666666666,
             "#ed7953"
            ],
            [
             0.7777777777777778,
             "#fb9f3a"
            ],
            [
             0.8888888888888888,
             "#fdca26"
            ],
            [
             1,
             "#f0f921"
            ]
           ],
           "sequentialminus": [
            [
             0,
             "#0d0887"
            ],
            [
             0.1111111111111111,
             "#46039f"
            ],
            [
             0.2222222222222222,
             "#7201a8"
            ],
            [
             0.3333333333333333,
             "#9c179e"
            ],
            [
             0.4444444444444444,
             "#bd3786"
            ],
            [
             0.5555555555555556,
             "#d8576b"
            ],
            [
             0.6666666666666666,
             "#ed7953"
            ],
            [
             0.7777777777777778,
             "#fb9f3a"
            ],
            [
             0.8888888888888888,
             "#fdca26"
            ],
            [
             1,
             "#f0f921"
            ]
           ]
          },
          "colorway": [
           "#636efa",
           "#EF553B",
           "#00cc96",
           "#ab63fa",
           "#FFA15A",
           "#19d3f3",
           "#FF6692",
           "#B6E880",
           "#FF97FF",
           "#FECB52"
          ],
          "font": {
           "color": "#2a3f5f"
          },
          "geo": {
           "bgcolor": "white",
           "lakecolor": "white",
           "landcolor": "white",
           "showlakes": true,
           "showland": true,
           "subunitcolor": "#C8D4E3"
          },
          "hoverlabel": {
           "align": "left"
          },
          "hovermode": "closest",
          "mapbox": {
           "style": "light"
          },
          "paper_bgcolor": "white",
          "plot_bgcolor": "white",
          "polar": {
           "angularaxis": {
            "gridcolor": "#EBF0F8",
            "linecolor": "#EBF0F8",
            "ticks": ""
           },
           "bgcolor": "white",
           "radialaxis": {
            "gridcolor": "#EBF0F8",
            "linecolor": "#EBF0F8",
            "ticks": ""
           }
          },
          "scene": {
           "xaxis": {
            "backgroundcolor": "white",
            "gridcolor": "#DFE8F3",
            "gridwidth": 2,
            "linecolor": "#EBF0F8",
            "showbackground": true,
            "ticks": "",
            "zerolinecolor": "#EBF0F8"
           },
           "yaxis": {
            "backgroundcolor": "white",
            "gridcolor": "#DFE8F3",
            "gridwidth": 2,
            "linecolor": "#EBF0F8",
            "showbackground": true,
            "ticks": "",
            "zerolinecolor": "#EBF0F8"
           },
           "zaxis": {
            "backgroundcolor": "white",
            "gridcolor": "#DFE8F3",
            "gridwidth": 2,
            "linecolor": "#EBF0F8",
            "showbackground": true,
            "ticks": "",
            "zerolinecolor": "#EBF0F8"
           }
          },
          "shapedefaults": {
           "line": {
            "color": "#2a3f5f"
           }
          },
          "ternary": {
           "aaxis": {
            "gridcolor": "#DFE8F3",
            "linecolor": "#A2B1C6",
            "ticks": ""
           },
           "baxis": {
            "gridcolor": "#DFE8F3",
            "linecolor": "#A2B1C6",
            "ticks": ""
           },
           "bgcolor": "white",
           "caxis": {
            "gridcolor": "#DFE8F3",
            "linecolor": "#A2B1C6",
            "ticks": ""
           }
          },
          "title": {
           "x": 0.05
          },
          "xaxis": {
           "automargin": true,
           "gridcolor": "#EBF0F8",
           "linecolor": "#EBF0F8",
           "ticks": "",
           "title": {
            "standoff": 15
           },
           "zerolinecolor": "#EBF0F8",
           "zerolinewidth": 2
          },
          "yaxis": {
           "automargin": true,
           "gridcolor": "#EBF0F8",
           "linecolor": "#EBF0F8",
           "ticks": "",
           "title": {
            "standoff": 15
           },
           "zerolinecolor": "#EBF0F8",
           "zerolinewidth": 2
          }
         }
        },
        "title": {
         "text": "Ranking das Categorias com Maior Proporção de Avaliações Baixas (Notas 1 e 2)"
        },
        "xaxis": {
         "anchor": "y",
         "domain": [
          0,
          1
         ],
         "title": {
          "text": "Proporção de Avaliações Baixas"
         }
        },
        "yaxis": {
         "anchor": "x",
         "categoryorder": "total ascending",
         "domain": [
          0,
          1
         ],
         "title": {
          "text": "Categoria do Produto"
         }
        }
       }
      }
     },
     "metadata": {},
     "output_type": "display_data"
    }
   ],
   "source": [
    "# Garante que os valores estejam como escalares e não listas\n",
    "df_proporcao_filtrado['proporcao_baixas_val'] = df_proporcao_filtrado['proporcao_baixas'].apply(lambda x: x[0] if isinstance(x, list) else x)\n",
    "\n",
    "# Ordena da maior para a menor proporção de avaliações negativas\n",
    "df_proporcao_filtrado = df_proporcao_filtrado.sort_values(by='proporcao_baixas_val', ascending=False)\n",
    "\n",
    "# Gera gráfico com Plotly exibindo as categorias mais mal avaliadas no topo\n",
    "fig = px.bar(\n",
    "    df_proporcao_filtrado,\n",
    "    x='proporcao_baixas_val',\n",
    "    y='product_category_name',\n",
    "    orientation='h',\n",
    "    labels={\n",
    "        'proporcao_baixas_val': 'Proporção de Avaliações Baixas',\n",
    "        'product_category_name': 'Categoria do Produto'\n",
    "    },\n",
    "    title='Ranking das Categorias com Maior Proporção de Avaliações Baixas (Notas 1 e 2)',a\n",
    "    text=df_proporcao_filtrado['proporcao_baixas_val'].apply(lambda x: f\"{x:.2%}\")\n",
    ")\n",
    "\n",
    "fig.update_traces(textposition='outside')\n",
    "fig.update_layout(\n",
    "    yaxis={'categoryorder': 'total ascending'},  # <- isso faz o gráfico mostrar as piores no topo\n",
    "    template='plotly_white',\n",
    "    margin=dict(l=150)\n",
    ")\n",
    "\n",
    "fig.show()\n"
   ]
  },
  {
   "cell_type": "markdown",
   "id": "3f17d493",
   "metadata": {},
   "source": [
    "### Categorias de menor satisfação:\n",
    "Informática e Acessórios (32,88%), Beleza e Saúde (31,88%) e Telefonia (29,79%) são as três categorias com maior proporção de avaliações negativas.\n",
    "Isso pode indicar problemas recorrentes como produtos danificados, entregas fora do prazo, expectativa vs. realidade, ou até suporte técnico insatisfatório."
   ]
  },
  {
   "cell_type": "markdown",
   "id": "dfa989d9",
   "metadata": {},
   "source": [
    "### Insights interessantes:\n",
    "1. Telefonia, Ferramentas e Jardim, Brinquedos e Beleza e saúde aparecem em ambos os rankings - o que isso significa?\n",
    "Significa que são muito polarizadas, ou seja, por motivos como qualidade extremamente variável entre marcas diferentes, ou até mesmo expectativas desalinhadas com o produto entregue.\n",
    "\n",
    "2. Informática e Acessórios possui a maior proporção de avaliações negativas e não tem grande destaque nas avaliações positivas. No cruzamento entre as 2 tabelas, essa é a categoria mais crítica em termos de satisfação geral. \n",
    "Pode se supor que os motivos possam ser falhas recorrentes no funcionamento e a falta de suporte técnico para solucionar essas falhas.\n",
    "\n",
    "3. Utilidades Domésticas tem a maior proporção de avaliações positivas (70,31%), sem aparecer entre as maiores proporções de negativas. Pode se concluir disso que os produtos dessa categoria estão entregando uma boa experiência consistente. "
   ]
  },
  {
   "cell_type": "code",
   "execution_count": 114,
   "id": "a9b77787",
   "metadata": {},
   "outputs": [
    {
     "data": {
      "text/html": [
       "<div>\n",
       "<style scoped>\n",
       "    .dataframe tbody tr th:only-of-type {\n",
       "        vertical-align: middle;\n",
       "    }\n",
       "\n",
       "    .dataframe tbody tr th {\n",
       "        vertical-align: top;\n",
       "    }\n",
       "\n",
       "    .dataframe thead th {\n",
       "        text-align: right;\n",
       "    }\n",
       "</style>\n",
       "<table border=\"1\" class=\"dataframe\">\n",
       "  <thead>\n",
       "    <tr style=\"text-align: right;\">\n",
       "      <th></th>\n",
       "      <th>index</th>\n",
       "      <th>product_category_name</th>\n",
       "      <th>review_score</th>\n",
       "      <th>sentimento_nota</th>\n",
       "      <th>review_comment_message</th>\n",
       "      <th>sentimento_comentario</th>\n",
       "      <th>analise_combinada1</th>\n",
       "    </tr>\n",
       "  </thead>\n",
       "  <tbody>\n",
       "    <tr>\n",
       "      <th>0</th>\n",
       "      <td>84629</td>\n",
       "      <td>bebes</td>\n",
       "      <td>1</td>\n",
       "      <td>Negativo</td>\n",
       "      <td>A rede é inadequada pra criança, pois o risco ...</td>\n",
       "      <td>Negativo</td>\n",
       "      <td>Negativo</td>\n",
       "    </tr>\n",
       "    <tr>\n",
       "      <th>1</th>\n",
       "      <td>54369</td>\n",
       "      <td>moveis_sala</td>\n",
       "      <td>5</td>\n",
       "      <td>Positivo</td>\n",
       "      <td>Produto de ótima qualidade e entregue muito an...</td>\n",
       "      <td>Positivo</td>\n",
       "      <td>Positivo</td>\n",
       "    </tr>\n",
       "    <tr>\n",
       "      <th>2</th>\n",
       "      <td>82455</td>\n",
       "      <td>eletronicos</td>\n",
       "      <td>2</td>\n",
       "      <td>Negativo</td>\n",
       "      <td>Fiz uma compra em um so pedido de uma TV e um ...</td>\n",
       "      <td>Negativo</td>\n",
       "      <td>Negativo</td>\n",
       "    </tr>\n",
       "    <tr>\n",
       "      <th>3</th>\n",
       "      <td>108948</td>\n",
       "      <td>ferramentas_jardim</td>\n",
       "      <td>5</td>\n",
       "      <td>Positivo</td>\n",
       "      <td>Melhor city para comprar online maravilhoso</td>\n",
       "      <td>Positivo</td>\n",
       "      <td>Positivo</td>\n",
       "    </tr>\n",
       "    <tr>\n",
       "      <th>4</th>\n",
       "      <td>31380</td>\n",
       "      <td>moveis_decoracao</td>\n",
       "      <td>5</td>\n",
       "      <td>Positivo</td>\n",
       "      <td>Chegou dentro do prazo. Adorei as peças!</td>\n",
       "      <td>Positivo</td>\n",
       "      <td>Positivo</td>\n",
       "    </tr>\n",
       "    <tr>\n",
       "      <th>5</th>\n",
       "      <td>34443</td>\n",
       "      <td>brinquedos</td>\n",
       "      <td>1</td>\n",
       "      <td>Negativo</td>\n",
       "      <td>Só foi entregue o elefantinho. O dois ursinhos...</td>\n",
       "      <td>Negativo</td>\n",
       "      <td>Negativo</td>\n",
       "    </tr>\n",
       "    <tr>\n",
       "      <th>6</th>\n",
       "      <td>86685</td>\n",
       "      <td>informatica_acessorios</td>\n",
       "      <td>3</td>\n",
       "      <td>Neutro</td>\n",
       "      <td>Entrega dentro do prazo previsto. Satisfeito.</td>\n",
       "      <td>Positivo</td>\n",
       "      <td>Neutro</td>\n",
       "    </tr>\n",
       "    <tr>\n",
       "      <th>7</th>\n",
       "      <td>14982</td>\n",
       "      <td>beleza_saude</td>\n",
       "      <td>5</td>\n",
       "      <td>Positivo</td>\n",
       "      <td>Muito bom mesmo!!!</td>\n",
       "      <td>Positivo</td>\n",
       "      <td>Positivo</td>\n",
       "    </tr>\n",
       "    <tr>\n",
       "      <th>8</th>\n",
       "      <td>34577</td>\n",
       "      <td>cama_mesa_banho</td>\n",
       "      <td>5</td>\n",
       "      <td>Positivo</td>\n",
       "      <td>Tudo perfeito... Adorei</td>\n",
       "      <td>Positivo</td>\n",
       "      <td>Positivo</td>\n",
       "    </tr>\n",
       "    <tr>\n",
       "      <th>9</th>\n",
       "      <td>102904</td>\n",
       "      <td>pet_shop</td>\n",
       "      <td>5</td>\n",
       "      <td>Positivo</td>\n",
       "      <td>Ótima compra! Produto excelente! Recomendo</td>\n",
       "      <td>Positivo</td>\n",
       "      <td>Positivo</td>\n",
       "    </tr>\n",
       "  </tbody>\n",
       "</table>\n",
       "</div>"
      ],
      "text/plain": [
       "    index   product_category_name  review_score sentimento_nota  \\\n",
       "0   84629                   bebes             1        Negativo   \n",
       "1   54369             moveis_sala             5        Positivo   \n",
       "2   82455             eletronicos             2        Negativo   \n",
       "3  108948      ferramentas_jardim             5        Positivo   \n",
       "4   31380        moveis_decoracao             5        Positivo   \n",
       "5   34443              brinquedos             1        Negativo   \n",
       "6   86685  informatica_acessorios             3          Neutro   \n",
       "7   14982            beleza_saude             5        Positivo   \n",
       "8   34577         cama_mesa_banho             5        Positivo   \n",
       "9  102904                pet_shop             5        Positivo   \n",
       "\n",
       "                              review_comment_message sentimento_comentario  \\\n",
       "0  A rede é inadequada pra criança, pois o risco ...              Negativo   \n",
       "1  Produto de ótima qualidade e entregue muito an...              Positivo   \n",
       "2  Fiz uma compra em um so pedido de uma TV e um ...              Negativo   \n",
       "3        Melhor city para comprar online maravilhoso              Positivo   \n",
       "4          Chegou dentro do prazo. Adorei as peças!               Positivo   \n",
       "5  Só foi entregue o elefantinho. O dois ursinhos...              Negativo   \n",
       "6      Entrega dentro do prazo previsto. Satisfeito.              Positivo   \n",
       "7                                 Muito bom mesmo!!!              Positivo   \n",
       "8                            Tudo perfeito... Adorei              Positivo   \n",
       "9        Ótima compra! Produto excelente! Recomendo               Positivo   \n",
       "\n",
       "  analise_combinada1  \n",
       "0           Negativo  \n",
       "1           Positivo  \n",
       "2           Negativo  \n",
       "3           Positivo  \n",
       "4           Positivo  \n",
       "5           Negativo  \n",
       "6             Neutro  \n",
       "7           Positivo  \n",
       "8           Positivo  \n",
       "9           Positivo  "
      ]
     },
     "execution_count": 114,
     "metadata": {},
     "output_type": "execute_result"
    }
   ],
   "source": [
    "def classificar_sentimento_pela_nota(nota):\n",
    "    if nota in [1, 2]:\n",
    "        return \"Negativo\"\n",
    "    elif nota == 3:\n",
    "        return \"Neutro\"\n",
    "    elif nota in [4, 5]:\n",
    "        return \"Positivo\"\n",
    "    return None\n",
    "df_final_amostra['sentimento_nota'] = df_final_amostra['review_score'].apply(classificar_sentimento_pela_nota)\n",
    "\n",
    "def analise_combinada1(df):\n",
    "    score = df['review_score']\n",
    "    sentimento_texto_estimado = df['sentimento_comentario']\n",
    "\n",
    "    if score >= 4 or sentimento_texto_estimado == \"positivo\":\n",
    "        return \"Positivo\"\n",
    "    elif score <= 2 or sentimento_texto_estimado == \"negativo\":\n",
    "        return \"Negativo\"\n",
    "    else:\n",
    "        return \"Neutro\"\n",
    "\n",
    "df_final_amostra['analise_combinada1'] = df_final_amostra.apply(analise_combinada1, axis=1)\n",
    "\n",
    "df_comparacao1 = df_final_amostra[\n",
    "    ['product_category_name', 'review_score','sentimento_nota', 'review_comment_message', 'sentimento_comentario',  'analise_combinada1']\n",
    "].agg(list).reset_index()\n",
    "\n",
    "df_comparacao1.head(10)"
   ]
  },
  {
   "cell_type": "code",
   "execution_count": 116,
   "id": "38349246",
   "metadata": {},
   "outputs": [
    {
     "name": "stdout",
     "output_type": "stream",
     "text": [
      "Acurácia de compatibilidade entre a análise usando score médio e o score da avaliação: 73.20%\n"
     ]
    }
   ],
   "source": [
    "acuracia1 = (df_final_amostra['sentimento_comentario'] == df_final_amostra['sentimento_nota']).mean() * 100\n",
    "print(f\"Acurácia de compatibilidade entre a análise usando score médio e o score da avaliação: {acuracia1:.2f}%\")"
   ]
  },
  {
   "cell_type": "markdown",
   "id": "49af177a",
   "metadata": {},
   "source": [
    "1. Função que calcula uma média entre a nota da avaliação e a nota do comentário, para definir outro sentimento combinado\n",
    "\n",
    "2. Aplicando a função para criar a coluna 'analise_combinada2' no DataFrame\n",
    "\n",
    "3. Agrupa os dados selecionados em listas por categoria e reseta o índice\n",
    "\n",
    "4. Exibe as 10 primeiras linhas do DataFrame agrupado\n"
   ]
  },
  {
   "cell_type": "code",
   "execution_count": 117,
   "id": "427d9f85",
   "metadata": {},
   "outputs": [
    {
     "data": {
      "text/html": [
       "<div>\n",
       "<style scoped>\n",
       "    .dataframe tbody tr th:only-of-type {\n",
       "        vertical-align: middle;\n",
       "    }\n",
       "\n",
       "    .dataframe tbody tr th {\n",
       "        vertical-align: top;\n",
       "    }\n",
       "\n",
       "    .dataframe thead th {\n",
       "        text-align: right;\n",
       "    }\n",
       "</style>\n",
       "<table border=\"1\" class=\"dataframe\">\n",
       "  <thead>\n",
       "    <tr style=\"text-align: right;\">\n",
       "      <th></th>\n",
       "      <th>index</th>\n",
       "      <th>product_category_name</th>\n",
       "      <th>review_score</th>\n",
       "      <th>sentimento_nota</th>\n",
       "      <th>review_comment_message</th>\n",
       "      <th>sentimento_comentario</th>\n",
       "      <th>analise_combinada2</th>\n",
       "    </tr>\n",
       "  </thead>\n",
       "  <tbody>\n",
       "    <tr>\n",
       "      <th>0</th>\n",
       "      <td>84629</td>\n",
       "      <td>bebes</td>\n",
       "      <td>1</td>\n",
       "      <td>Negativo</td>\n",
       "      <td>A rede é inadequada pra criança, pois o risco ...</td>\n",
       "      <td>Negativo</td>\n",
       "      <td>Negativo</td>\n",
       "    </tr>\n",
       "    <tr>\n",
       "      <th>1</th>\n",
       "      <td>54369</td>\n",
       "      <td>moveis_sala</td>\n",
       "      <td>5</td>\n",
       "      <td>Positivo</td>\n",
       "      <td>Produto de ótima qualidade e entregue muito an...</td>\n",
       "      <td>Positivo</td>\n",
       "      <td>Positivo</td>\n",
       "    </tr>\n",
       "    <tr>\n",
       "      <th>2</th>\n",
       "      <td>82455</td>\n",
       "      <td>eletronicos</td>\n",
       "      <td>2</td>\n",
       "      <td>Negativo</td>\n",
       "      <td>Fiz uma compra em um so pedido de uma TV e um ...</td>\n",
       "      <td>Negativo</td>\n",
       "      <td>Negativo</td>\n",
       "    </tr>\n",
       "    <tr>\n",
       "      <th>3</th>\n",
       "      <td>108948</td>\n",
       "      <td>ferramentas_jardim</td>\n",
       "      <td>5</td>\n",
       "      <td>Positivo</td>\n",
       "      <td>Melhor city para comprar online maravilhoso</td>\n",
       "      <td>Positivo</td>\n",
       "      <td>Positivo</td>\n",
       "    </tr>\n",
       "    <tr>\n",
       "      <th>4</th>\n",
       "      <td>31380</td>\n",
       "      <td>moveis_decoracao</td>\n",
       "      <td>5</td>\n",
       "      <td>Positivo</td>\n",
       "      <td>Chegou dentro do prazo. Adorei as peças!</td>\n",
       "      <td>Positivo</td>\n",
       "      <td>Positivo</td>\n",
       "    </tr>\n",
       "    <tr>\n",
       "      <th>5</th>\n",
       "      <td>34443</td>\n",
       "      <td>brinquedos</td>\n",
       "      <td>1</td>\n",
       "      <td>Negativo</td>\n",
       "      <td>Só foi entregue o elefantinho. O dois ursinhos...</td>\n",
       "      <td>Negativo</td>\n",
       "      <td>Negativo</td>\n",
       "    </tr>\n",
       "    <tr>\n",
       "      <th>6</th>\n",
       "      <td>86685</td>\n",
       "      <td>informatica_acessorios</td>\n",
       "      <td>3</td>\n",
       "      <td>Neutro</td>\n",
       "      <td>Entrega dentro do prazo previsto. Satisfeito.</td>\n",
       "      <td>Positivo</td>\n",
       "      <td>Neutro</td>\n",
       "    </tr>\n",
       "    <tr>\n",
       "      <th>7</th>\n",
       "      <td>14982</td>\n",
       "      <td>beleza_saude</td>\n",
       "      <td>5</td>\n",
       "      <td>Positivo</td>\n",
       "      <td>Muito bom mesmo!!!</td>\n",
       "      <td>Positivo</td>\n",
       "      <td>Positivo</td>\n",
       "    </tr>\n",
       "    <tr>\n",
       "      <th>8</th>\n",
       "      <td>34577</td>\n",
       "      <td>cama_mesa_banho</td>\n",
       "      <td>5</td>\n",
       "      <td>Positivo</td>\n",
       "      <td>Tudo perfeito... Adorei</td>\n",
       "      <td>Positivo</td>\n",
       "      <td>Positivo</td>\n",
       "    </tr>\n",
       "    <tr>\n",
       "      <th>9</th>\n",
       "      <td>102904</td>\n",
       "      <td>pet_shop</td>\n",
       "      <td>5</td>\n",
       "      <td>Positivo</td>\n",
       "      <td>Ótima compra! Produto excelente! Recomendo</td>\n",
       "      <td>Positivo</td>\n",
       "      <td>Positivo</td>\n",
       "    </tr>\n",
       "  </tbody>\n",
       "</table>\n",
       "</div>"
      ],
      "text/plain": [
       "    index   product_category_name  review_score sentimento_nota  \\\n",
       "0   84629                   bebes             1        Negativo   \n",
       "1   54369             moveis_sala             5        Positivo   \n",
       "2   82455             eletronicos             2        Negativo   \n",
       "3  108948      ferramentas_jardim             5        Positivo   \n",
       "4   31380        moveis_decoracao             5        Positivo   \n",
       "5   34443              brinquedos             1        Negativo   \n",
       "6   86685  informatica_acessorios             3          Neutro   \n",
       "7   14982            beleza_saude             5        Positivo   \n",
       "8   34577         cama_mesa_banho             5        Positivo   \n",
       "9  102904                pet_shop             5        Positivo   \n",
       "\n",
       "                              review_comment_message sentimento_comentario  \\\n",
       "0  A rede é inadequada pra criança, pois o risco ...              Negativo   \n",
       "1  Produto de ótima qualidade e entregue muito an...              Positivo   \n",
       "2  Fiz uma compra em um so pedido de uma TV e um ...              Negativo   \n",
       "3        Melhor city para comprar online maravilhoso              Positivo   \n",
       "4          Chegou dentro do prazo. Adorei as peças!               Positivo   \n",
       "5  Só foi entregue o elefantinho. O dois ursinhos...              Negativo   \n",
       "6      Entrega dentro do prazo previsto. Satisfeito.              Positivo   \n",
       "7                                 Muito bom mesmo!!!              Positivo   \n",
       "8                            Tudo perfeito... Adorei              Positivo   \n",
       "9        Ótima compra! Produto excelente! Recomendo               Positivo   \n",
       "\n",
       "  analise_combinada2  \n",
       "0           Negativo  \n",
       "1           Positivo  \n",
       "2           Negativo  \n",
       "3           Positivo  \n",
       "4           Positivo  \n",
       "5           Negativo  \n",
       "6             Neutro  \n",
       "7           Positivo  \n",
       "8           Positivo  \n",
       "9           Positivo  "
      ]
     },
     "execution_count": 117,
     "metadata": {},
     "output_type": "execute_result"
    }
   ],
   "source": [
    "def analise_combinada2(df):\n",
    "    score = df['review_score']\n",
    "    scorecomment = df['comment_score']\n",
    "    scoremedio = (score + scorecomment) / 2\n",
    "\n",
    "    if scoremedio >= 3.5:\n",
    "        return \"Positivo\"\n",
    "    elif scoremedio <= 2.5:\n",
    "        return \"Negativo\"\n",
    "    else:\n",
    "        return \"Neutro\"\n",
    "\n",
    "\n",
    "df_final_amostra['analise_combinada2'] = df_final_amostra.apply(analise_combinada2, axis=1)\n",
    "\n",
    "# Agrupa e conta quantas linhas tem em cada grupo\n",
    "df_comparacao2 = df_final_amostra[\n",
    "    ['product_category_name', 'review_score','sentimento_nota', 'review_comment_message', 'sentimento_comentario',  'analise_combinada2']\n",
    "].agg(list).reset_index()\n",
    "\n",
    "df_comparacao2.head(10)"
   ]
  },
  {
   "cell_type": "code",
   "execution_count": null,
   "id": "f90d56a3",
   "metadata": {},
   "outputs": [
    {
     "name": "stdout",
     "output_type": "stream",
     "text": [
      "Acurácia de compatibilidade entre a análise usando score médio (última análise) e o score da avaliação: 79.40%\n"
     ]
    }
   ],
   "source": [
    "acuracia2 = (df_final_amostra['analise_combinada2'] == df_final_amostra['sentimento_nota']).mean() * 100\n",
    "print(f\"Acurácia de compatibilidade entre a análise usando score médio (última análise) e o score da avaliação: {acuracia2:.2f}%\")"
   ]
  }
 ],
 "metadata": {
  "kernelspec": {
   "display_name": "Python 3",
   "language": "python",
   "name": "python3"
  },
  "language_info": {
   "codemirror_mode": {
    "name": "ipython",
    "version": 3
   },
   "file_extension": ".py",
   "mimetype": "text/x-python",
   "name": "python",
   "nbconvert_exporter": "python",
   "pygments_lexer": "ipython3",
   "version": "3.12.7"
  }
 },
 "nbformat": 4,
 "nbformat_minor": 5
}
